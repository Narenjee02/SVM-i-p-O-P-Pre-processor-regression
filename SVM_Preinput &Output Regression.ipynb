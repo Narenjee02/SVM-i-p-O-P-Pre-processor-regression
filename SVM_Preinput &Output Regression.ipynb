{
 "cells": [
  {
   "cell_type": "code",
   "execution_count": 1,
   "id": "428df391",
   "metadata": {},
   "outputs": [],
   "source": [
    "import pandas as pd"
   ]
  },
  {
   "cell_type": "code",
   "execution_count": 2,
   "id": "a2449664",
   "metadata": {},
   "outputs": [],
   "source": [
    "dataset=pd.read_csv(\"Profit Prediction.csv\")"
   ]
  },
  {
   "cell_type": "code",
   "execution_count": 3,
   "id": "dbe721fe",
   "metadata": {},
   "outputs": [
    {
     "data": {
      "text/html": [
       "<div>\n",
       "<style scoped>\n",
       "    .dataframe tbody tr th:only-of-type {\n",
       "        vertical-align: middle;\n",
       "    }\n",
       "\n",
       "    .dataframe tbody tr th {\n",
       "        vertical-align: top;\n",
       "    }\n",
       "\n",
       "    .dataframe thead th {\n",
       "        text-align: right;\n",
       "    }\n",
       "</style>\n",
       "<table border=\"1\" class=\"dataframe\">\n",
       "  <thead>\n",
       "    <tr style=\"text-align: right;\">\n",
       "      <th></th>\n",
       "      <th>Dell</th>\n",
       "      <th>Hp</th>\n",
       "      <th>Barclays</th>\n",
       "      <th>IBM</th>\n",
       "      <th>Country</th>\n",
       "      <th>Profit</th>\n",
       "    </tr>\n",
       "  </thead>\n",
       "  <tbody>\n",
       "    <tr>\n",
       "      <th>0</th>\n",
       "      <td>2345.52</td>\n",
       "      <td>9990.88</td>\n",
       "      <td>27192.94</td>\n",
       "      <td>48217.68</td>\n",
       "      <td>USA</td>\n",
       "      <td>7.312252e+06</td>\n",
       "    </tr>\n",
       "    <tr>\n",
       "      <th>1</th>\n",
       "      <td>4256.86</td>\n",
       "      <td>11902.22</td>\n",
       "      <td>29104.28</td>\n",
       "      <td>50129.02</td>\n",
       "      <td>India</td>\n",
       "      <td>7.949365e+06</td>\n",
       "    </tr>\n",
       "    <tr>\n",
       "      <th>2</th>\n",
       "      <td>6168.20</td>\n",
       "      <td>13813.56</td>\n",
       "      <td>31015.62</td>\n",
       "      <td>52040.36</td>\n",
       "      <td>Spain</td>\n",
       "      <td>8.586478e+06</td>\n",
       "    </tr>\n",
       "    <tr>\n",
       "      <th>3</th>\n",
       "      <td>8079.54</td>\n",
       "      <td>15724.90</td>\n",
       "      <td>32926.96</td>\n",
       "      <td>53951.70</td>\n",
       "      <td>China</td>\n",
       "      <td>9.223592e+06</td>\n",
       "    </tr>\n",
       "    <tr>\n",
       "      <th>4</th>\n",
       "      <td>9990.88</td>\n",
       "      <td>17636.24</td>\n",
       "      <td>34838.30</td>\n",
       "      <td>55863.04</td>\n",
       "      <td>USA</td>\n",
       "      <td>9.860705e+06</td>\n",
       "    </tr>\n",
       "    <tr>\n",
       "      <th>5</th>\n",
       "      <td>11902.22</td>\n",
       "      <td>19547.58</td>\n",
       "      <td>36749.64</td>\n",
       "      <td>57774.38</td>\n",
       "      <td>India</td>\n",
       "      <td>1.049782e+07</td>\n",
       "    </tr>\n",
       "    <tr>\n",
       "      <th>6</th>\n",
       "      <td>13813.56</td>\n",
       "      <td>21458.92</td>\n",
       "      <td>38660.98</td>\n",
       "      <td>59685.72</td>\n",
       "      <td>Spain</td>\n",
       "      <td>1.113493e+07</td>\n",
       "    </tr>\n",
       "    <tr>\n",
       "      <th>7</th>\n",
       "      <td>15724.90</td>\n",
       "      <td>23370.26</td>\n",
       "      <td>40572.32</td>\n",
       "      <td>61597.06</td>\n",
       "      <td>China</td>\n",
       "      <td>1.177204e+07</td>\n",
       "    </tr>\n",
       "    <tr>\n",
       "      <th>8</th>\n",
       "      <td>17636.24</td>\n",
       "      <td>25281.60</td>\n",
       "      <td>42483.66</td>\n",
       "      <td>63508.40</td>\n",
       "      <td>USA</td>\n",
       "      <td>1.240916e+07</td>\n",
       "    </tr>\n",
       "    <tr>\n",
       "      <th>9</th>\n",
       "      <td>19547.58</td>\n",
       "      <td>27192.94</td>\n",
       "      <td>44395.00</td>\n",
       "      <td>65419.74</td>\n",
       "      <td>India</td>\n",
       "      <td>1.304627e+07</td>\n",
       "    </tr>\n",
       "    <tr>\n",
       "      <th>10</th>\n",
       "      <td>21458.92</td>\n",
       "      <td>29104.28</td>\n",
       "      <td>46306.34</td>\n",
       "      <td>67331.08</td>\n",
       "      <td>Spain</td>\n",
       "      <td>1.368338e+07</td>\n",
       "    </tr>\n",
       "    <tr>\n",
       "      <th>11</th>\n",
       "      <td>23370.26</td>\n",
       "      <td>31015.62</td>\n",
       "      <td>48217.68</td>\n",
       "      <td>69242.42</td>\n",
       "      <td>China</td>\n",
       "      <td>1.432050e+07</td>\n",
       "    </tr>\n",
       "    <tr>\n",
       "      <th>12</th>\n",
       "      <td>25281.60</td>\n",
       "      <td>32926.96</td>\n",
       "      <td>50129.02</td>\n",
       "      <td>71153.76</td>\n",
       "      <td>USA</td>\n",
       "      <td>1.495761e+07</td>\n",
       "    </tr>\n",
       "    <tr>\n",
       "      <th>13</th>\n",
       "      <td>27192.94</td>\n",
       "      <td>34838.30</td>\n",
       "      <td>52040.36</td>\n",
       "      <td>73065.10</td>\n",
       "      <td>India</td>\n",
       "      <td>1.559472e+07</td>\n",
       "    </tr>\n",
       "    <tr>\n",
       "      <th>14</th>\n",
       "      <td>29104.28</td>\n",
       "      <td>36749.64</td>\n",
       "      <td>53951.70</td>\n",
       "      <td>74976.44</td>\n",
       "      <td>Spain</td>\n",
       "      <td>1.623184e+07</td>\n",
       "    </tr>\n",
       "    <tr>\n",
       "      <th>15</th>\n",
       "      <td>31015.62</td>\n",
       "      <td>38660.98</td>\n",
       "      <td>55863.04</td>\n",
       "      <td>76887.78</td>\n",
       "      <td>China</td>\n",
       "      <td>1.686895e+07</td>\n",
       "    </tr>\n",
       "  </tbody>\n",
       "</table>\n",
       "</div>"
      ],
      "text/plain": [
       "        Dell        Hp  Barclays       IBM Country        Profit\n",
       "0    2345.52   9990.88  27192.94  48217.68     USA  7.312252e+06\n",
       "1    4256.86  11902.22  29104.28  50129.02   India  7.949365e+06\n",
       "2    6168.20  13813.56  31015.62  52040.36   Spain  8.586478e+06\n",
       "3    8079.54  15724.90  32926.96  53951.70   China  9.223592e+06\n",
       "4    9990.88  17636.24  34838.30  55863.04     USA  9.860705e+06\n",
       "5   11902.22  19547.58  36749.64  57774.38   India  1.049782e+07\n",
       "6   13813.56  21458.92  38660.98  59685.72   Spain  1.113493e+07\n",
       "7   15724.90  23370.26  40572.32  61597.06   China  1.177204e+07\n",
       "8   17636.24  25281.60  42483.66  63508.40     USA  1.240916e+07\n",
       "9   19547.58  27192.94  44395.00  65419.74   India  1.304627e+07\n",
       "10  21458.92  29104.28  46306.34  67331.08   Spain  1.368338e+07\n",
       "11  23370.26  31015.62  48217.68  69242.42   China  1.432050e+07\n",
       "12  25281.60  32926.96  50129.02  71153.76     USA  1.495761e+07\n",
       "13  27192.94  34838.30  52040.36  73065.10   India  1.559472e+07\n",
       "14  29104.28  36749.64  53951.70  74976.44   Spain  1.623184e+07\n",
       "15  31015.62  38660.98  55863.04  76887.78   China  1.686895e+07"
      ]
     },
     "execution_count": 3,
     "metadata": {},
     "output_type": "execute_result"
    }
   ],
   "source": [
    "dataset"
   ]
  },
  {
   "cell_type": "code",
   "execution_count": 4,
   "id": "24e7b476",
   "metadata": {},
   "outputs": [],
   "source": [
    "dataset=pd.get_dummies(dataset,drop_first=True)\n",
    "dataset=dataset.astype(int)"
   ]
  },
  {
   "cell_type": "code",
   "execution_count": 5,
   "id": "159e0ec4",
   "metadata": {},
   "outputs": [
    {
     "data": {
      "text/html": [
       "<div>\n",
       "<style scoped>\n",
       "    .dataframe tbody tr th:only-of-type {\n",
       "        vertical-align: middle;\n",
       "    }\n",
       "\n",
       "    .dataframe tbody tr th {\n",
       "        vertical-align: top;\n",
       "    }\n",
       "\n",
       "    .dataframe thead th {\n",
       "        text-align: right;\n",
       "    }\n",
       "</style>\n",
       "<table border=\"1\" class=\"dataframe\">\n",
       "  <thead>\n",
       "    <tr style=\"text-align: right;\">\n",
       "      <th></th>\n",
       "      <th>Dell</th>\n",
       "      <th>Hp</th>\n",
       "      <th>Barclays</th>\n",
       "      <th>IBM</th>\n",
       "      <th>Profit</th>\n",
       "      <th>Country_India</th>\n",
       "      <th>Country_Spain</th>\n",
       "      <th>Country_USA</th>\n",
       "    </tr>\n",
       "  </thead>\n",
       "  <tbody>\n",
       "    <tr>\n",
       "      <th>0</th>\n",
       "      <td>2345</td>\n",
       "      <td>9990</td>\n",
       "      <td>27192</td>\n",
       "      <td>48217</td>\n",
       "      <td>7312251</td>\n",
       "      <td>0</td>\n",
       "      <td>0</td>\n",
       "      <td>1</td>\n",
       "    </tr>\n",
       "    <tr>\n",
       "      <th>1</th>\n",
       "      <td>4256</td>\n",
       "      <td>11902</td>\n",
       "      <td>29104</td>\n",
       "      <td>50129</td>\n",
       "      <td>7949365</td>\n",
       "      <td>1</td>\n",
       "      <td>0</td>\n",
       "      <td>0</td>\n",
       "    </tr>\n",
       "    <tr>\n",
       "      <th>2</th>\n",
       "      <td>6168</td>\n",
       "      <td>13813</td>\n",
       "      <td>31015</td>\n",
       "      <td>52040</td>\n",
       "      <td>8586478</td>\n",
       "      <td>0</td>\n",
       "      <td>1</td>\n",
       "      <td>0</td>\n",
       "    </tr>\n",
       "    <tr>\n",
       "      <th>3</th>\n",
       "      <td>8079</td>\n",
       "      <td>15724</td>\n",
       "      <td>32926</td>\n",
       "      <td>53951</td>\n",
       "      <td>9223591</td>\n",
       "      <td>0</td>\n",
       "      <td>0</td>\n",
       "      <td>0</td>\n",
       "    </tr>\n",
       "    <tr>\n",
       "      <th>4</th>\n",
       "      <td>9990</td>\n",
       "      <td>17636</td>\n",
       "      <td>34838</td>\n",
       "      <td>55863</td>\n",
       "      <td>9860705</td>\n",
       "      <td>0</td>\n",
       "      <td>0</td>\n",
       "      <td>1</td>\n",
       "    </tr>\n",
       "    <tr>\n",
       "      <th>5</th>\n",
       "      <td>11902</td>\n",
       "      <td>19547</td>\n",
       "      <td>36749</td>\n",
       "      <td>57774</td>\n",
       "      <td>10497818</td>\n",
       "      <td>1</td>\n",
       "      <td>0</td>\n",
       "      <td>0</td>\n",
       "    </tr>\n",
       "    <tr>\n",
       "      <th>6</th>\n",
       "      <td>13813</td>\n",
       "      <td>21458</td>\n",
       "      <td>38660</td>\n",
       "      <td>59685</td>\n",
       "      <td>11134931</td>\n",
       "      <td>0</td>\n",
       "      <td>1</td>\n",
       "      <td>0</td>\n",
       "    </tr>\n",
       "    <tr>\n",
       "      <th>7</th>\n",
       "      <td>15724</td>\n",
       "      <td>23370</td>\n",
       "      <td>40572</td>\n",
       "      <td>61597</td>\n",
       "      <td>11772045</td>\n",
       "      <td>0</td>\n",
       "      <td>0</td>\n",
       "      <td>0</td>\n",
       "    </tr>\n",
       "    <tr>\n",
       "      <th>8</th>\n",
       "      <td>17636</td>\n",
       "      <td>25281</td>\n",
       "      <td>42483</td>\n",
       "      <td>63508</td>\n",
       "      <td>12409158</td>\n",
       "      <td>0</td>\n",
       "      <td>0</td>\n",
       "      <td>1</td>\n",
       "    </tr>\n",
       "    <tr>\n",
       "      <th>9</th>\n",
       "      <td>19547</td>\n",
       "      <td>27192</td>\n",
       "      <td>44395</td>\n",
       "      <td>65419</td>\n",
       "      <td>13046271</td>\n",
       "      <td>1</td>\n",
       "      <td>0</td>\n",
       "      <td>0</td>\n",
       "    </tr>\n",
       "    <tr>\n",
       "      <th>10</th>\n",
       "      <td>21458</td>\n",
       "      <td>29104</td>\n",
       "      <td>46306</td>\n",
       "      <td>67331</td>\n",
       "      <td>13683385</td>\n",
       "      <td>0</td>\n",
       "      <td>1</td>\n",
       "      <td>0</td>\n",
       "    </tr>\n",
       "    <tr>\n",
       "      <th>11</th>\n",
       "      <td>23370</td>\n",
       "      <td>31015</td>\n",
       "      <td>48217</td>\n",
       "      <td>69242</td>\n",
       "      <td>14320498</td>\n",
       "      <td>0</td>\n",
       "      <td>0</td>\n",
       "      <td>0</td>\n",
       "    </tr>\n",
       "    <tr>\n",
       "      <th>12</th>\n",
       "      <td>25281</td>\n",
       "      <td>32926</td>\n",
       "      <td>50129</td>\n",
       "      <td>71153</td>\n",
       "      <td>14957611</td>\n",
       "      <td>0</td>\n",
       "      <td>0</td>\n",
       "      <td>1</td>\n",
       "    </tr>\n",
       "    <tr>\n",
       "      <th>13</th>\n",
       "      <td>27192</td>\n",
       "      <td>34838</td>\n",
       "      <td>52040</td>\n",
       "      <td>73065</td>\n",
       "      <td>15594725</td>\n",
       "      <td>1</td>\n",
       "      <td>0</td>\n",
       "      <td>0</td>\n",
       "    </tr>\n",
       "    <tr>\n",
       "      <th>14</th>\n",
       "      <td>29104</td>\n",
       "      <td>36749</td>\n",
       "      <td>53951</td>\n",
       "      <td>74976</td>\n",
       "      <td>16231838</td>\n",
       "      <td>0</td>\n",
       "      <td>1</td>\n",
       "      <td>0</td>\n",
       "    </tr>\n",
       "    <tr>\n",
       "      <th>15</th>\n",
       "      <td>31015</td>\n",
       "      <td>38660</td>\n",
       "      <td>55863</td>\n",
       "      <td>76887</td>\n",
       "      <td>16868951</td>\n",
       "      <td>0</td>\n",
       "      <td>0</td>\n",
       "      <td>0</td>\n",
       "    </tr>\n",
       "  </tbody>\n",
       "</table>\n",
       "</div>"
      ],
      "text/plain": [
       "     Dell     Hp  Barclays    IBM    Profit  Country_India  Country_Spain  \\\n",
       "0    2345   9990     27192  48217   7312251              0              0   \n",
       "1    4256  11902     29104  50129   7949365              1              0   \n",
       "2    6168  13813     31015  52040   8586478              0              1   \n",
       "3    8079  15724     32926  53951   9223591              0              0   \n",
       "4    9990  17636     34838  55863   9860705              0              0   \n",
       "5   11902  19547     36749  57774  10497818              1              0   \n",
       "6   13813  21458     38660  59685  11134931              0              1   \n",
       "7   15724  23370     40572  61597  11772045              0              0   \n",
       "8   17636  25281     42483  63508  12409158              0              0   \n",
       "9   19547  27192     44395  65419  13046271              1              0   \n",
       "10  21458  29104     46306  67331  13683385              0              1   \n",
       "11  23370  31015     48217  69242  14320498              0              0   \n",
       "12  25281  32926     50129  71153  14957611              0              0   \n",
       "13  27192  34838     52040  73065  15594725              1              0   \n",
       "14  29104  36749     53951  74976  16231838              0              1   \n",
       "15  31015  38660     55863  76887  16868951              0              0   \n",
       "\n",
       "    Country_USA  \n",
       "0             1  \n",
       "1             0  \n",
       "2             0  \n",
       "3             0  \n",
       "4             1  \n",
       "5             0  \n",
       "6             0  \n",
       "7             0  \n",
       "8             1  \n",
       "9             0  \n",
       "10            0  \n",
       "11            0  \n",
       "12            1  \n",
       "13            0  \n",
       "14            0  \n",
       "15            0  "
      ]
     },
     "execution_count": 5,
     "metadata": {},
     "output_type": "execute_result"
    }
   ],
   "source": [
    "dataset"
   ]
  },
  {
   "cell_type": "code",
   "execution_count": 6,
   "id": "267e2583",
   "metadata": {},
   "outputs": [
    {
     "data": {
      "text/plain": [
       "Index(['Dell', 'Hp', 'Barclays', 'IBM', 'Profit', 'Country_India',\n",
       "       'Country_Spain', 'Country_USA'],\n",
       "      dtype='object')"
      ]
     },
     "execution_count": 6,
     "metadata": {},
     "output_type": "execute_result"
    }
   ],
   "source": [
    "dataset.columns"
   ]
  },
  {
   "cell_type": "code",
   "execution_count": 7,
   "id": "8bfa7a95",
   "metadata": {},
   "outputs": [],
   "source": [
    "Independent=dataset[['Dell', 'Hp', 'Barclays', 'IBM',\n",
    "       'Country_India', 'Country_Spain', 'Country_USA']]"
   ]
  },
  {
   "cell_type": "code",
   "execution_count": 8,
   "id": "c9893b7d",
   "metadata": {},
   "outputs": [],
   "source": [
    "Dependent=dataset[[\"Profit\"]]"
   ]
  },
  {
   "cell_type": "code",
   "execution_count": 9,
   "id": "b1672dc6",
   "metadata": {},
   "outputs": [],
   "source": [
    "from sklearn.model_selection import train_test_split\n",
    "x_train,x_test,y_train,y_test=train_test_split(Independent, Dependent, test_size=0.30, random_state=0)"
   ]
  },
  {
   "cell_type": "code",
   "execution_count": 10,
   "id": "23d95a56",
   "metadata": {},
   "outputs": [],
   "source": [
    "from sklearn.preprocessing import StandardScaler\n",
    "sc=StandardScaler()\n",
    "x_train=sc.fit_transform(x_train)\n",
    "x_test=sc.transform(x_test)"
   ]
  },
  {
   "cell_type": "code",
   "execution_count": 11,
   "id": "b57fcad9",
   "metadata": {},
   "outputs": [
    {
     "data": {
      "text/plain": [
       "array([[-0.72550096, -0.72542547, -0.72542773, -0.72542547, -0.31622777,\n",
       "        -0.61237244,  1.63299316],\n",
       "       [-1.13466459, -1.13469748, -1.13469004, -1.13469748, -0.31622777,\n",
       "         1.63299316, -0.61237244],\n",
       "       [ 1.32074538,  1.32072048,  1.3206697 ,  1.32072048, -0.31622777,\n",
       "         1.63299316, -0.61237244],\n",
       "       [ 0.50220402,  0.50228351,  0.50225214,  0.50228351, -0.31622777,\n",
       "         1.63299316, -0.61237244],\n",
       "       [-0.11164847, -0.11157098, -0.1115878 , -0.11157098, -0.31622777,\n",
       "        -0.61237244, -0.61237244],\n",
       "       [ 1.52532719,  1.52530296,  1.52535438,  1.52530296, -0.31622777,\n",
       "        -0.61237244, -0.61237244],\n",
       "       [ 0.70689288,  0.70686599,  0.70682976,  0.70686599, -0.31622777,\n",
       "        -0.61237244, -0.61237244],\n",
       "       [-0.93008278, -0.930115  , -0.93011241, -0.930115  , -0.31622777,\n",
       "        -0.61237244, -0.61237244],\n",
       "       [-1.54393527, -1.54396949, -1.54395234, -1.54396949, -0.31622777,\n",
       "        -0.61237244,  1.63299316],\n",
       "       [-0.5208121 , -0.52084299, -0.5208501 , -0.52084299,  3.16227766,\n",
       "        -0.61237244, -0.61237244],\n",
       "       [ 0.9114747 ,  0.91144847,  0.91151444,  0.91144847, -0.31622777,\n",
       "        -0.61237244,  1.63299316]])"
      ]
     },
     "execution_count": 11,
     "metadata": {},
     "output_type": "execute_result"
    }
   ],
   "source": [
    "x_train"
   ]
  },
  {
   "cell_type": "code",
   "execution_count": 12,
   "id": "cca9c908",
   "metadata": {},
   "outputs": [],
   "source": [
    "scy=StandardScaler()\n",
    "y_train=scy.fit_transform(y_train)\n",
    "y_test=scy.transform(y_test)"
   ]
  },
  {
   "cell_type": "code",
   "execution_count": 13,
   "id": "5c19d664",
   "metadata": {},
   "outputs": [
    {
     "name": "stderr",
     "output_type": "stream",
     "text": [
      "C:\\Users\\Admin\\anaconda3\\Lib\\site-packages\\sklearn\\utils\\validation.py:1184: DataConversionWarning: A column-vector y was passed when a 1d array was expected. Please change the shape of y to (n_samples, ), for example using ravel().\n",
      "  y = column_or_1d(y, warn=True)\n"
     ]
    },
    {
     "data": {
      "text/html": [
       "<style>#sk-container-id-1 {color: black;}#sk-container-id-1 pre{padding: 0;}#sk-container-id-1 div.sk-toggleable {background-color: white;}#sk-container-id-1 label.sk-toggleable__label {cursor: pointer;display: block;width: 100%;margin-bottom: 0;padding: 0.3em;box-sizing: border-box;text-align: center;}#sk-container-id-1 label.sk-toggleable__label-arrow:before {content: \"▸\";float: left;margin-right: 0.25em;color: #696969;}#sk-container-id-1 label.sk-toggleable__label-arrow:hover:before {color: black;}#sk-container-id-1 div.sk-estimator:hover label.sk-toggleable__label-arrow:before {color: black;}#sk-container-id-1 div.sk-toggleable__content {max-height: 0;max-width: 0;overflow: hidden;text-align: left;background-color: #f0f8ff;}#sk-container-id-1 div.sk-toggleable__content pre {margin: 0.2em;color: black;border-radius: 0.25em;background-color: #f0f8ff;}#sk-container-id-1 input.sk-toggleable__control:checked~div.sk-toggleable__content {max-height: 200px;max-width: 100%;overflow: auto;}#sk-container-id-1 input.sk-toggleable__control:checked~label.sk-toggleable__label-arrow:before {content: \"▾\";}#sk-container-id-1 div.sk-estimator input.sk-toggleable__control:checked~label.sk-toggleable__label {background-color: #d4ebff;}#sk-container-id-1 div.sk-label input.sk-toggleable__control:checked~label.sk-toggleable__label {background-color: #d4ebff;}#sk-container-id-1 input.sk-hidden--visually {border: 0;clip: rect(1px 1px 1px 1px);clip: rect(1px, 1px, 1px, 1px);height: 1px;margin: -1px;overflow: hidden;padding: 0;position: absolute;width: 1px;}#sk-container-id-1 div.sk-estimator {font-family: monospace;background-color: #f0f8ff;border: 1px dotted black;border-radius: 0.25em;box-sizing: border-box;margin-bottom: 0.5em;}#sk-container-id-1 div.sk-estimator:hover {background-color: #d4ebff;}#sk-container-id-1 div.sk-parallel-item::after {content: \"\";width: 100%;border-bottom: 1px solid gray;flex-grow: 1;}#sk-container-id-1 div.sk-label:hover label.sk-toggleable__label {background-color: #d4ebff;}#sk-container-id-1 div.sk-serial::before {content: \"\";position: absolute;border-left: 1px solid gray;box-sizing: border-box;top: 0;bottom: 0;left: 50%;z-index: 0;}#sk-container-id-1 div.sk-serial {display: flex;flex-direction: column;align-items: center;background-color: white;padding-right: 0.2em;padding-left: 0.2em;position: relative;}#sk-container-id-1 div.sk-item {position: relative;z-index: 1;}#sk-container-id-1 div.sk-parallel {display: flex;align-items: stretch;justify-content: center;background-color: white;position: relative;}#sk-container-id-1 div.sk-item::before, #sk-container-id-1 div.sk-parallel-item::before {content: \"\";position: absolute;border-left: 1px solid gray;box-sizing: border-box;top: 0;bottom: 0;left: 50%;z-index: -1;}#sk-container-id-1 div.sk-parallel-item {display: flex;flex-direction: column;z-index: 1;position: relative;background-color: white;}#sk-container-id-1 div.sk-parallel-item:first-child::after {align-self: flex-end;width: 50%;}#sk-container-id-1 div.sk-parallel-item:last-child::after {align-self: flex-start;width: 50%;}#sk-container-id-1 div.sk-parallel-item:only-child::after {width: 0;}#sk-container-id-1 div.sk-dashed-wrapped {border: 1px dashed gray;margin: 0 0.4em 0.5em 0.4em;box-sizing: border-box;padding-bottom: 0.4em;background-color: white;}#sk-container-id-1 div.sk-label label {font-family: monospace;font-weight: bold;display: inline-block;line-height: 1.2em;}#sk-container-id-1 div.sk-label-container {text-align: center;}#sk-container-id-1 div.sk-container {/* jupyter's `normalize.less` sets `[hidden] { display: none; }` but bootstrap.min.css set `[hidden] { display: none !important; }` so we also need the `!important` here to be able to override the default hidden behavior on the sphinx rendered scikit-learn.org. See: https://github.com/scikit-learn/scikit-learn/issues/21755 */display: inline-block !important;position: relative;}#sk-container-id-1 div.sk-text-repr-fallback {display: none;}</style><div id=\"sk-container-id-1\" class=\"sk-top-container\"><div class=\"sk-text-repr-fallback\"><pre>SVR(C=1000)</pre><b>In a Jupyter environment, please rerun this cell to show the HTML representation or trust the notebook. <br />On GitHub, the HTML representation is unable to render, please try loading this page with nbviewer.org.</b></div><div class=\"sk-container\" hidden><div class=\"sk-item\"><div class=\"sk-estimator sk-toggleable\"><input class=\"sk-toggleable__control sk-hidden--visually\" id=\"sk-estimator-id-1\" type=\"checkbox\" checked><label for=\"sk-estimator-id-1\" class=\"sk-toggleable__label sk-toggleable__label-arrow\">SVR</label><div class=\"sk-toggleable__content\"><pre>SVR(C=1000)</pre></div></div></div></div></div>"
      ],
      "text/plain": [
       "SVR(C=1000)"
      ]
     },
     "execution_count": 13,
     "metadata": {},
     "output_type": "execute_result"
    }
   ],
   "source": [
    "from sklearn.svm import SVR\n",
    "regressor=SVR(kernel=\"rbf\", C=1000)\n",
    "regressor.fit(x_train,y_train)"
   ]
  },
  {
   "cell_type": "code",
   "execution_count": 14,
   "id": "7fa2bd4f",
   "metadata": {},
   "outputs": [
    {
     "data": {
      "text/plain": [
       "array([-0.08505417])"
      ]
     },
     "execution_count": 14,
     "metadata": {},
     "output_type": "execute_result"
    }
   ],
   "source": [
    "regressor.intercept_"
   ]
  },
  {
   "cell_type": "code",
   "execution_count": 15,
   "id": "99499266",
   "metadata": {},
   "outputs": [
    {
     "data": {
      "text/plain": [
       "array([8])"
      ]
     },
     "execution_count": 15,
     "metadata": {},
     "output_type": "execute_result"
    }
   ],
   "source": [
    "regressor.n_support_"
   ]
  },
  {
   "cell_type": "code",
   "execution_count": 16,
   "id": "dd8756c4",
   "metadata": {},
   "outputs": [
    {
     "data": {
      "text/plain": [
       "array([ 0,  1,  2,  5,  6,  8,  9, 10])"
      ]
     },
     "execution_count": 16,
     "metadata": {},
     "output_type": "execute_result"
    }
   ],
   "source": [
    "regressor.support_"
   ]
  },
  {
   "cell_type": "code",
   "execution_count": 17,
   "id": "c7841799",
   "metadata": {},
   "outputs": [
    {
     "data": {
      "text/plain": [
       "0.33485923868141376"
      ]
     },
     "execution_count": 17,
     "metadata": {},
     "output_type": "execute_result"
    }
   ],
   "source": [
    "y_pred=regressor.predict(x_test)\n",
    "from sklearn.metrics import r2_score\n",
    "r_score=r2_score(y_test,y_pred)\n",
    "r_score"
   ]
  },
  {
   "cell_type": "code",
   "execution_count": 18,
   "id": "c1e80382",
   "metadata": {},
   "outputs": [
    {
     "name": "stderr",
     "output_type": "stream",
     "text": [
      "C:\\Users\\Admin\\anaconda3\\Lib\\site-packages\\sklearn\\base.py:464: UserWarning: X does not have valid feature names, but StandardScaler was fitted with feature names\n",
      "  warnings.warn(\n"
     ]
    },
    {
     "data": {
      "text/plain": [
       "array([[  -1.7842734 ,   -2.59203986,   -4.13377021,   -6.7004971 ,\n",
       "        1565.01121402,  179.01687537, 1750.77279365]])"
      ]
     },
     "execution_count": 18,
     "metadata": {},
     "output_type": "execute_result"
    }
   ],
   "source": [
    "import pickle\n",
    "filename=\"finalized_model_linear.sav\"\n",
    "pickle.dump(regressor,open(filename, 'wb'))\n",
    "preinput=sc.transform([[100,200,3000,50,450,80,780]])\n",
    "preinput\n"
   ]
  },
  {
   "cell_type": "code",
   "execution_count": 20,
   "id": "4f96122f",
   "metadata": {},
   "outputs": [
    {
     "data": {
      "text/plain": [
       "array([-0.08505417])"
      ]
     },
     "execution_count": 20,
     "metadata": {},
     "output_type": "execute_result"
    }
   ],
   "source": [
    "loaded_model=pickle.load(open(\"finalized_model_linear.sav\",'rb'))\n",
    "result=loaded_model.predict(preinput)\n",
    "result "
   ]
  },
  {
   "cell_type": "code",
   "execution_count": 21,
   "id": "931ac7fc",
   "metadata": {},
   "outputs": [],
   "source": [
    "preoutput=scy.inverse_transform([result])"
   ]
  },
  {
   "cell_type": "code",
   "execution_count": 22,
   "id": "1d82e7e2",
   "metadata": {},
   "outputs": [
    {
     "data": {
      "text/plain": [
       "array([[11854730.1845427]])"
      ]
     },
     "execution_count": 22,
     "metadata": {},
     "output_type": "execute_result"
    }
   ],
   "source": [
    "preoutput"
   ]
  },
  {
   "cell_type": "code",
   "execution_count": null,
   "id": "af4451b8",
   "metadata": {},
   "outputs": [],
   "source": []
  }
 ],
 "metadata": {
  "kernelspec": {
   "display_name": "Python 3 (ipykernel)",
   "language": "python",
   "name": "python3"
  },
  "language_info": {
   "codemirror_mode": {
    "name": "ipython",
    "version": 3
   },
   "file_extension": ".py",
   "mimetype": "text/x-python",
   "name": "python",
   "nbconvert_exporter": "python",
   "pygments_lexer": "ipython3",
   "version": "3.11.5"
  }
 },
 "nbformat": 4,
 "nbformat_minor": 5
}
